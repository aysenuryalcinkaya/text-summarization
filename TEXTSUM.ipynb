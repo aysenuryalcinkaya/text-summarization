{
  "nbformat": 4,
  "nbformat_minor": 0,
  "metadata": {
    "colab": {
      "provenance": []
    },
    "kernelspec": {
      "name": "python3",
      "display_name": "Python 3"
    },
    "language_info": {
      "name": "python"
    }
  },
  "cells": [
    {
      "cell_type": "code",
      "source": [
        "!pip install transformers"
      ],
      "metadata": {
        "colab": {
          "base_uri": "https://localhost:8080/"
        },
        "id": "0_TmqZUuJv_5",
        "outputId": "0415a07b-96c8-4367-ae99-817ddc00c904"
      },
      "execution_count": null,
      "outputs": [
        {
          "output_type": "stream",
          "name": "stdout",
          "text": [
            "Collecting transformers\n",
            "  Downloading transformers-4.31.0-py3-none-any.whl (7.4 MB)\n",
            "\u001b[2K     \u001b[90m━━━━━━━━━━━━━━━━━━━━━━━━━━━━━━━━━━━━━━━━\u001b[0m \u001b[32m7.4/7.4 MB\u001b[0m \u001b[31m59.4 MB/s\u001b[0m eta \u001b[36m0:00:00\u001b[0m\n",
            "\u001b[?25hRequirement already satisfied: filelock in /usr/local/lib/python3.10/dist-packages (from transformers) (3.12.2)\n",
            "Collecting huggingface-hub<1.0,>=0.14.1 (from transformers)\n",
            "  Downloading huggingface_hub-0.16.4-py3-none-any.whl (268 kB)\n",
            "\u001b[2K     \u001b[90m━━━━━━━━━━━━━━━━━━━━━━━━━━━━━━━━━━━━━━\u001b[0m \u001b[32m268.8/268.8 kB\u001b[0m \u001b[31m33.7 MB/s\u001b[0m eta \u001b[36m0:00:00\u001b[0m\n",
            "\u001b[?25hRequirement already satisfied: numpy>=1.17 in /usr/local/lib/python3.10/dist-packages (from transformers) (1.23.5)\n",
            "Requirement already satisfied: packaging>=20.0 in /usr/local/lib/python3.10/dist-packages (from transformers) (23.1)\n",
            "Requirement already satisfied: pyyaml>=5.1 in /usr/local/lib/python3.10/dist-packages (from transformers) (6.0.1)\n",
            "Requirement already satisfied: regex!=2019.12.17 in /usr/local/lib/python3.10/dist-packages (from transformers) (2023.6.3)\n",
            "Requirement already satisfied: requests in /usr/local/lib/python3.10/dist-packages (from transformers) (2.31.0)\n",
            "Collecting tokenizers!=0.11.3,<0.14,>=0.11.1 (from transformers)\n",
            "  Downloading tokenizers-0.13.3-cp310-cp310-manylinux_2_17_x86_64.manylinux2014_x86_64.whl (7.8 MB)\n",
            "\u001b[2K     \u001b[90m━━━━━━━━━━━━━━━━━━━━━━━━━━━━━━━━━━━━━━━━\u001b[0m \u001b[32m7.8/7.8 MB\u001b[0m \u001b[31m128.7 MB/s\u001b[0m eta \u001b[36m0:00:00\u001b[0m\n",
            "\u001b[?25hCollecting safetensors>=0.3.1 (from transformers)\n",
            "  Downloading safetensors-0.3.2-cp310-cp310-manylinux_2_17_x86_64.manylinux2014_x86_64.whl (1.3 MB)\n",
            "\u001b[2K     \u001b[90m━━━━━━━━━━━━━━━━━━━━━━━━━━━━━━━━━━━━━━━━\u001b[0m \u001b[32m1.3/1.3 MB\u001b[0m \u001b[31m100.9 MB/s\u001b[0m eta \u001b[36m0:00:00\u001b[0m\n",
            "\u001b[?25hRequirement already satisfied: tqdm>=4.27 in /usr/local/lib/python3.10/dist-packages (from transformers) (4.66.1)\n",
            "Requirement already satisfied: fsspec in /usr/local/lib/python3.10/dist-packages (from huggingface-hub<1.0,>=0.14.1->transformers) (2023.6.0)\n",
            "Requirement already satisfied: typing-extensions>=3.7.4.3 in /usr/local/lib/python3.10/dist-packages (from huggingface-hub<1.0,>=0.14.1->transformers) (4.7.1)\n",
            "Requirement already satisfied: charset-normalizer<4,>=2 in /usr/local/lib/python3.10/dist-packages (from requests->transformers) (3.2.0)\n",
            "Requirement already satisfied: idna<4,>=2.5 in /usr/local/lib/python3.10/dist-packages (from requests->transformers) (3.4)\n",
            "Requirement already satisfied: urllib3<3,>=1.21.1 in /usr/local/lib/python3.10/dist-packages (from requests->transformers) (2.0.4)\n",
            "Requirement already satisfied: certifi>=2017.4.17 in /usr/local/lib/python3.10/dist-packages (from requests->transformers) (2023.7.22)\n",
            "Installing collected packages: tokenizers, safetensors, huggingface-hub, transformers\n",
            "Successfully installed huggingface-hub-0.16.4 safetensors-0.3.2 tokenizers-0.13.3 transformers-4.31.0\n"
          ]
        }
      ]
    },
    {
      "cell_type": "code",
      "execution_count": null,
      "metadata": {
        "colab": {
          "base_uri": "https://localhost:8080/"
        },
        "id": "StxkaAiaJNBi",
        "outputId": "22a5fb39-9851-484b-edd4-b1064441d518"
      },
      "outputs": [
        {
          "output_type": "stream",
          "name": "stdout",
          "text": [
            "Yeni yerlere ulaşma dürtüsü insan türümüzün Afrika kıtasından tüm dünyaya yayılmasına, büyük askeri-göç hareketleriyle. Dünya medeniyetlerinin şekillenmesine, keşiflerle hayata bakışımızın değişmesine neden olan devrimci bir güçtü.\n"
          ]
        }
      ],
      "source": [
        "from transformers import BartTokenizer, BartForConditionalGeneration, pipeline\n",
        "\n",
        "# Türkçe BART modelini yükleyin\n",
        "model_name = \"facebook/bart-large-cnn\"\n",
        "model = BartForConditionalGeneration.from_pretrained(model_name)\n",
        "tokenizer = BartTokenizer.from_pretrained(model_name)\n",
        "\n",
        "# Özetleme için bir pipeline oluşturun\n",
        "summarizer = pipeline(\"summarization\", model=model, tokenizer=tokenizer)\n",
        "\n",
        "def generate_summary_with_percentage(text, percentage):\n",
        "    # Metni yüzdelik orana göre özetle\n",
        "    max_length = int(len(text.split()) * (percentage / 100))\n",
        "    min_length = int(max_length * 0.5)  # Minimum uzunluğu ayarlayabilirsiniz\n",
        "    summary = summarizer(text, max_length=max_length, min_length=min_length, do_sample=True)\n",
        "    return summary[0]['summary_text']\n",
        "\n",
        "body = '''\n",
        "    ... (metin burada) ...\n",
        "'''\n",
        "\n",
        "percentage = 30  # Yüzde 30'luk bir özet oluşturmak için\n",
        "summary = generate_summary_with_percentage(body, percentage)\n",
        "print(summary)\n"
      ]
    },
    {
      "cell_type": "code",
      "source": [
        "from transformers import BartTokenizer, BartForConditionalGeneration, pipeline\n",
        "\n",
        "# Türkçe BART modelini yükleyin\n",
        "model_name = \"facebook/bart-large-cnn\"\n",
        "model = BartForConditionalGeneration.from_pretrained(model_name)\n",
        "tokenizer = BartTokenizer.from_pretrained(model_name)\n",
        "\n",
        "# Özetleme için bir pipeline oluşturun\n",
        "summarizer = pipeline(\"summarization\", model=model, tokenizer=tokenizer)\n",
        "\n",
        "def generate_summary_with_percentage(text, percentage):\n",
        "    # Metni yüzdelik orana göre özetle\n",
        "    max_length = int(len(text.split()) * (percentage / 100))\n",
        "    min_length = int(max_length * 0.5)  # Minimum uzunluğu ayarlayabilirsiniz\n",
        "    summary = summarizer(text, max_length=max_length, min_length=min_length, do_sample=True)\n",
        "    return summary[0]['summary_text']\n",
        "\n",
        "# Metin dosyasını okuyun\n",
        "file_path = 'metin.txt'  # Metin dosyasının yolunu belirtin\n",
        "with open(file_path, 'r', encoding='utf-8') as file:\n",
        "    body = file.read()\n",
        "\n",
        "# Farklı yüzdelik oranları için özetleri yazdırın\n",
        "for percentage in range(10, 101, 10):  # 10, 20, ..., 100 yüzdelik oranları\n",
        "    summary = generate_summary_with_percentage(body, percentage)\n",
        "    print(f\"Yüzde {percentage} Özeti:\")\n",
        "    print(summary)\n",
        "    print(\"-\" * 30)"
      ],
      "metadata": {
        "id": "uMaxnLPqajw-",
        "colab": {
          "base_uri": "https://localhost:8080/"
        },
        "outputId": "63bf800f-c9f8-4fb9-c862-2aac5964f411"
      },
      "execution_count": null,
      "outputs": [
        {
          "output_type": "stream",
          "name": "stdout",
          "text": [
            "Yüzde 10 Özeti:\n",
            "Yeni yerlere ulaşma dürtüsü insan t\n",
            "------------------------------\n",
            "Yüzde 20 Özeti:\n",
            "Yeni yerlere ulaşma dürtüsü insan türümüzün Afrika kıtasından tüm düny\n",
            "------------------------------\n",
            "Yüzde 30 Özeti:\n",
            "Yeni yerlere ulaşma dürtüsü insan türümüzün Afrika kıtasından tüm dünyaya yayılmasına, büyük askeri-göç hareket\n",
            "------------------------------\n",
            "Yüzde 40 Özeti:\n",
            "Yeni yerlere ulaşma dürtüsü insan türümüzün Afrika kıtasından tüm dünyaya yayılmasına, büyük askeri-göç hareketleriyle. Yanlarına alabildikleri birkaç parça eşy\n",
            "------------------------------\n",
            "Yüzde 50 Özeti:\n",
            "Yeni yerlere ulaşma dürtüsü insan türümüzün Afrika kıtasından tüm dünyaya yayılmasına, büyük askeri-göç hareketleriyle. Yanlarına alabildikleri birkaç parça eşyadan başka en ağır yükleri karşı tarafta\n",
            "------------------------------\n",
            "Yüzde 60 Özeti:\n",
            "Yanlarına alabildikleri birkaç parça eşyadan başka en ağır yükleri karşı tarafta yeni bir hayat umudundan ibaret insanlar. Yeni yerlere ulaşma dürtüsü insan türümüzün Afrika kıtasından tüm dünyaya yayılmasına, büyük askeri-göç hareketleriyle.\n",
            "------------------------------\n",
            "Yüzde 70 Özeti:\n",
            "Yeni yerlere ulaşma dürtüsü insan türümüzün Afrika kıtasından tüm dünyaya yayılmasına, büyük askeri-göç hareketleriyle. Dünya medeniyetlerinin şekillenmesine, keşiflerle hayata bakışımız. neden olan devrimci bir güçtü.\n",
            "------------------------------\n",
            "Yüzde 80 Özeti:\n",
            "Yeni yerlere ulaşma dürtüsü insan türümüzün Afrika kıtasından tüm dünyaya yayılmasına, büyük askeri-göç hareketleriyle. Dünya medeniyetlerinin şekillenmesine, keşiflerle hayata bakışımızın değişmesine neden olan devrimci bir güçtü.\n",
            "------------------------------\n",
            "Yüzde 90 Özeti:\n",
            "Yanlarına alabildikleri birkaç parça eşyadan başka en ağır yükleri karşı tarafta yeni bir hayat umudundan ibaret insanlar. Elektrikli tel örgüler ve aşılmaz duvarlar. Yeni yerlere ulaşma dürtüsü insan türümüzün Afrika kıtasından tüm dünyaya yayılmasına.\n",
            "------------------------------\n",
            "Yüzde 100 Özeti:\n",
            "Yeni yerlere ulaşma dürtüsü insan türümüzün Afrika kıtasından tüm dünyaya yayılmasına, büyük askeri-göç hareketleriyle. Dünya medeniyetlerinin şekillenmesine, keşiflerle hayata bakışımızın değişmesine neden olan devrimci bir güçtü. Son yıllarda tarihteki en büYük insan göçlerinden birine şahit olduk. İç savaş nedeniyle 5 milyona yakın Suriyeli ülkelerere sığınmak zorunda.\n",
            "------------------------------\n"
          ]
        }
      ]
    },
    {
      "cell_type": "code",
      "source": [
        "from transformers import BartTokenizer, BartForConditionalGeneration, pipeline\n",
        "\n",
        "# Türkçe BART modelini yükleyin\n",
        "model_name = \"facebook/bart-large-cnn\"\n",
        "model = BartForConditionalGeneration.from_pretrained(model_name)\n",
        "tokenizer = BartTokenizer.from_pretrained(model_name)\n",
        "\n",
        "# Özetleme için bir pipeline oluşturun\n",
        "summarizer = pipeline(\"summarization\", model=model, tokenizer=tokenizer)\n",
        "\n",
        "def generate_summary_with_percentage(text, percentage):\n",
        "    # Metni yüzdelik orana göre özetle\n",
        "    max_length = int(len(text.split()) * (percentage / 100))\n",
        "    min_length = int(max_length * 0.5)  # Minimum uzunluğu ayarlayabilirsiniz\n",
        "    summary = summarizer(text, max_length=max_length, min_length=min_length, do_sample=True)\n",
        "    return summary[0]['summary_text']\n",
        "\n",
        "# Metin dosyasını okuyun\n",
        "file_path = 'metin.txt'  # Metin dosyasının yolunu belirtin\n",
        "with open(file_path, 'r', encoding='utf-8') as file:\n",
        "    body = file.read()\n",
        "\n",
        "# Farklı yüzdelik oranları için özetleri yazdırın\n",
        "for percentage in range(10, 101, 10):  # 10, 20, ..., 100 yüzdelik oranları\n",
        "    summary = generate_summary_with_percentage(body, percentage)\n",
        "    print(f\"Yüzde {percentage} Özeti:\")\n",
        "\n",
        "    # Özeti noktadan sonra alt satıra geçerek yazdır\n",
        "    sentences = summary.split('. ')  # Cümleleri ayırın\n",
        "    formatted_summary = '.\\n'.join(sentences)  # Alt satıra geçerek birleştirin\n",
        "    print(formatted_summary)\n",
        "\n",
        "    print(\"-\" * 30)\n"
      ],
      "metadata": {
        "colab": {
          "base_uri": "https://localhost:8080/"
        },
        "id": "7IEm2R_jh120",
        "outputId": "0a2b3c8d-371e-4a99-a62e-0dd9a3e75bf0"
      },
      "execution_count": null,
      "outputs": [
        {
          "output_type": "stream",
          "name": "stdout",
          "text": [
            "Yüzde 10 Özeti:\n",
            "Yanlarına alabildikleri birkaç parça eşyadan\n",
            "------------------------------\n",
            "Yüzde 20 Özeti:\n",
            "Yeni yerlere ulaşma dürtüsü insan türümüzün Afrika kıtasından tüm düny\n",
            "------------------------------\n",
            "Yüzde 30 Özeti:\n",
            "Yeni yerlere ulaşma dürtüsü insan türümüzün Afrika kıtasından tüm dünyaya yayılmasına, büyük askeri-göç hareket\n",
            "------------------------------\n",
            "Yüzde 40 Özeti:\n",
            "Yanlarına alabildikleri birkaç parça eşyadan başka en ağır yükleri karşı tarafta yeni bir hayat umudundan ibaret insanlar.\n",
            "Elektrikli tel örgüler ve aşılmaz duvarlar.\n",
            "Mayın döşenmiş\n",
            "------------------------------\n",
            "Yüzde 50 Özeti:\n",
            "Yanlarına alabildikleri birkaç parça eşyadan başka en ağır yükleri karşı tarafta yeni bir hayat umudundan ibaret insanlar.\n",
            "Elektrikli tel örgüler ve aşılmaz duvarlar.\n",
            "Yeni yerlere ulaşma dürtüsü insan türümüzün Afrika kıt\n",
            "------------------------------\n",
            "Yüzde 60 Özeti:\n",
            "Yeni yerlere ulaşma dürtüsü insan türümüzün Afrika kıtasından tüm dünyaya yayılmasına, büyük askeri-göç hareketleriyle.\n",
            "Dünya medeniyetlerinin şekillenmesine, keşiflerle hayata bakışımızın değişmesine neden olan devrimci bir güçtü.\n",
            "------------------------------\n",
            "Yüzde 70 Özeti:\n",
            "Yanlarına alabildikleri birkaç parça eşyadan başka en ağır yükleri karşı tarafta yeni bir hayat umudundan ibaret insanlar.\n",
            "Elektrikli tel örgüler ve aşılmaz duvarlar.\n",
            "Yeni yerlere ulaşma dürtüsü insan türümüzün Afrika kıtasından tüm dünyaya yayılmasına.\n",
            "------------------------------\n",
            "Yüzde 80 Özeti:\n",
            "Yeni yerlere ulaşma dürtüsü insan türümüzün Afrika kıtasından tüm dünyaya yayılmasına, büyük askeri-göç hareketleriyle.\n",
            "Dünya medeniyetlerinin şekillenmesine, keşiflerle hayata bakışımızın değişmesine neden olan devrimci bir güçtü.\n",
            "Tüm paralarını umut simsarlarına vermiş,bugüne kadar sahip oldukları herşeyi.\n",
            "------------------------------\n",
            "Yüzde 90 Özeti:\n",
            "Yeni yerlere ulaşma dürtüsü insan türümüzün Afrika kıtasından tüm dünyaya yayılmasına, büyük askeri-göç hareketleriyle.\n",
            "Yanlarına alabildikleri birkaç parça eşyadan başka en ağır yükleri karşı tarafta yeni bir hayat umudundan ibaret insanlar.\n",
            "Tüm paralarını umut simsarlarına vermiş.\n",
            "------------------------------\n",
            "Yüzde 100 Özeti:\n",
            "Yanlarına alabildikleri birkaç parça eşyadan başka en ağır yükleri karşı tarafta yeni bir hayat umudundan ibaret insanlar.\n",
            "Elektrikli tel örgüler ve aşılmaz duvarlar.\n",
            "Yeni yerlere ulaşma dürtüsü insan türümüzün Afrika kıtasından tüm dünyaya yayılmasına, büyük askeri-göç hareketleri.\n",
            "------------------------------\n"
          ]
        }
      ]
    },
    {
      "cell_type": "code",
      "source": [
        "from transformers import BartTokenizer, BartForConditionalGeneration, pipeline\n",
        "\n",
        "# Türkçe BART modelini yükleyin\n",
        "model_name = \"facebook/bart-large-cnn\"\n",
        "model = BartForConditionalGeneration.from_pretrained(model_name)\n",
        "tokenizer = BartTokenizer.from_pretrained(model_name)\n",
        "\n",
        "# Özetleme için bir pipeline oluşturun\n",
        "summarizer = pipeline(\"summarization\", model=model, tokenizer=tokenizer)\n",
        "\n",
        "# Metin dosyasını okuyun\n",
        "file_path = 'metin.txt'  # Metin dosyasının yolunu belirtin\n",
        "with open(file_path, 'r', encoding='utf-8') as file:\n",
        "    body = file.read()\n",
        "\n",
        "# Özetleme oranını belirleyin (örneğin %30)\n",
        "summary_percentage = 10\n",
        "\n",
        "# Metni verilen yüzdelik oranına göre özetleyin\n",
        "max_length = int(len(body.split()) * (summary_percentage / 100))\n",
        "min_length = int(max_length * 0.5)  # Minimum uzunluğu ayarlayabilirsiniz\n",
        "summary = summarizer(body, max_length=max_length, min_length=min_length, do_sample=True)\n",
        "\n",
        "print(f\"Yüzde {summary_percentage} Özeti:\")\n",
        "print(summary[0]['summary_text'])\n"
      ],
      "metadata": {
        "colab": {
          "base_uri": "https://localhost:8080/"
        },
        "id": "tEOLe7spoZ3r",
        "outputId": "77015a87-2779-4d62-a4a6-a61062651b51"
      },
      "execution_count": null,
      "outputs": [
        {
          "output_type": "stream",
          "name": "stdout",
          "text": [
            "Yüzde 10 Özeti:\n",
            "Yeni yerlere ulaşma dürtüsü insan t\n"
          ]
        }
      ]
    },
    {
      "cell_type": "code",
      "source": [
        "from transformers import BartTokenizer, BartForConditionalGeneration, pipeline\n",
        "\n",
        "# Türkçe BART modelini yükleyin\n",
        "model_name = \"facebook/bart-large-cnn\"\n",
        "model = BartForConditionalGeneration.from_pretrained(model_name)\n",
        "tokenizer = BartTokenizer.from_pretrained(model_name)\n",
        "\n",
        "# Özetleme için bir pipeline oluşturun\n",
        "summarizer = pipeline(\"summarization\", model=model, tokenizer=tokenizer)\n",
        "\n",
        "def generate_summary_with_percentage(text, percentage):\n",
        "    # Metni yüzdelik orana göre özetle\n",
        "    max_length = int(len(text.split()) * (percentage / 100))\n",
        "    min_length = int(max_length * 0.5)  # Minimum uzunluğu ayarlayabilirsiniz\n",
        "    summary = summarizer(text, max_length=max_length, min_length=min_length, do_sample=True)\n",
        "    return summary[0]['summary_text']\n",
        "\n",
        "def generate_and_print_summaries(text):\n",
        "    for percentage in range(10, 101, 10):  # 10, 20, ..., 100 yüzdelik oranları\n",
        "        summary = generate_summary_with_percentage(text, percentage)\n",
        "        print(f\"Yüzde {percentage} Özeti:\")\n",
        "        print(summary)\n",
        "        print(\"-\" * 30)\n",
        "\n",
        "# Metin dosyasını okuyun\n",
        "file_path = 'metin.txt'  # Metin dosyasının yolunu belirtin\n",
        "with open(file_path, 'r', encoding='utf-8') as file:\n",
        "    body = file.read()\n",
        "\n",
        "# Tüm metni farklı yüzdelik oranlarına göre özetleyip yazdırın\n",
        "generate_and_print_summaries(body)\n"
      ],
      "metadata": {
        "colab": {
          "base_uri": "https://localhost:8080/"
        },
        "id": "cvMlPX_Rpqjk",
        "outputId": "43c28391-ccd8-4da4-917f-a9b013fdc962"
      },
      "execution_count": null,
      "outputs": [
        {
          "output_type": "stream",
          "name": "stdout",
          "text": [
            "Yüzde 10 Özeti:\n",
            "Yeni yerlere ulaşma dürtüsü insan t\n",
            "------------------------------\n",
            "Yüzde 20 Özeti:\n",
            "Yeni yerlere ulaşma dürtüsü insan türümüzün Afrika kıtasından tüm düny\n",
            "------------------------------\n",
            "Yüzde 30 Özeti:\n",
            "Yeni yerlere ulaşma dürtüsü insan türümüzün Afrika kıtasından tüm dünyaya yayılmasına, büyük askeri-göç hareket\n",
            "------------------------------\n",
            "Yüzde 40 Özeti:\n",
            "Yanlarına alabildikleri birkaç parça eşyadan başka en ağır yükleri karşı tarafta yeni bir hayat umudundan ibaret insanlar. Yeni yerlere ulaşma dürtüsü insan türümüzün Afrika kıt\n",
            "------------------------------\n",
            "Yüzde 50 Özeti:\n",
            "Yeni yerlere ulaşma dürtüsü insan türümüzün Afrika kıtasından tüm dünyaya yayılmasına, büyük askeri-göç hareketleriyle. Yanlarına alabildikleri birkaç parça eşyadan başka en ağır yükleri karşı tarafta yen\n",
            "------------------------------\n",
            "Yüzde 60 Özeti:\n",
            "Yeni yerlere ulaşma dürtüsü insan türümüzün Afrika kıtasından tüm dünyaya yayılmasına, büyük askeri-göç hareketleriyle. Yanlarına alabildikleri birkaç parça eşyadan başka en ağır yükleri.\n",
            "------------------------------\n",
            "Yüzde 70 Özeti:\n",
            "Yeni yerlere ulaşma dürtüsü insan türümüzün Afrika kıtasından tüm dünyaya yayılmasına, büyük askeri-göç hareketleriyle. Tüm paralarını umut simsarlarına vermiş,bugüne kadar sahip oldukları herşeyi. Dünya yaşamlarında sırat köprüsür ve tecrübe edenler.\n",
            "------------------------------\n",
            "Yüzde 80 Özeti:\n",
            "Yeni yerlere ulaşma dürtüsü insan türümüzün Afrika kıtasından tüm dünyaya yayılmasına, büyük askeri-göç hareketleriyle. Bu köprü üzerinde en acı sefalete türlü yoksunluklar ve tacizler içerisinde göğüs gerenler, dün neydim diye sormayı artık unutmuş.\n",
            "------------------------------\n",
            "Yüzde 90 Özeti:\n",
            "Yeni yerlere ulaşma dürtüsü insan türümüzün Afrika kıtasından tüm dünyaya yayılmasına, büyük askeri-göç hareketleriyle. Yanlarına alabildikleri birkaç parça eşyadan başka en ağır yükleri karşı tarafta yeni bir hayat umudundan ibaret insanlar. Tüm paralarını umut simsarlarına vermiş.\n",
            "------------------------------\n",
            "Yüzde 100 Özeti:\n",
            "Yanlarına alabildikleri birkaç parça eşyadan başka en ağır yükleri karşı tarafta yeni bir hayat umudundan ibaret insanlar. Elektrikli tel örgüler ve aşılmaz duvarlar. Yeni yerlere ulaşma dürtüsü insan türümüzün Afrika kıtasından tüm dünyaya yayılmasına.\n",
            "------------------------------\n"
          ]
        }
      ]
    },
    {
      "cell_type": "code",
      "source": [
        "from transformers import BartTokenizer, BartForConditionalGeneration\n",
        "\n",
        "# Türkçe BART modelini yükleyin\n",
        "model_name = \"facebook/bart-large-cnn\"\n",
        "model = BartForConditionalGeneration.from_pretrained(model_name)\n",
        "tokenizer = BartTokenizer.from_pretrained(model_name)\n",
        "\n",
        "def generate_summary_with_percentage(text, percentage):\n",
        "    # Metni yüzdelik orana göre özetle\n",
        "    max_length = int(len(text.split()) * (percentage / 100))\n",
        "    min_length = int(max_length * 0.5)  # Minimum uzunluğu ayarlayabilirsiniz\n",
        "    input_ids = tokenizer.encode(text, return_tensors=\"pt\", max_length=max_length, truncation=True)\n",
        "    summary_ids = model.generate(input_ids, max_length=max_length, min_length=min_length, num_beams=4, length_penalty=2.0, early_stopping=True)\n",
        "    summary = tokenizer.decode(summary_ids[0], skip_special_tokens=True)\n",
        "    return summary\n",
        "\n",
        "# Metin dosyasını okuyun\n",
        "file_path = 'metin.txt'  # Metin dosyasının yolunu belirtin\n",
        "with open(file_path, 'r', encoding='utf-8') as file:\n",
        "    body = file.read()\n",
        "\n",
        "# Farklı yüzdelik oranları için özetleri yazdırın\n",
        "for percentage in range(10, 101, 10):  # 10, 20, ..., 100 yüzdelik oranları\n",
        "    summary = generate_summary_with_percentage(body, percentage)\n",
        "    print(f\"Yüzde {percentage} Özeti:\")\n",
        "    print(summary)\n",
        "    print(\"-\" * 30)\n"
      ],
      "metadata": {
        "colab": {
          "base_uri": "https://localhost:8080/"
        },
        "id": "SnO6K4yVq4LD",
        "outputId": "3c5b50ac-1525-4b16-9a59-aa76ef3a33f7"
      },
      "execution_count": null,
      "outputs": [
        {
          "output_type": "stream",
          "name": "stdout",
          "text": [
            "Yüzde 10 Özeti:\n",
            "Elektrikli tel örgüler ve aşılmaz duv\n",
            "------------------------------\n",
            "Yüzde 20 Özeti:\n",
            "Elektrikli tel örgüler ve aşılmaz duvarlar. Mayın döşenmiş arazi ve sınırı\n",
            "------------------------------\n",
            "Yüzde 30 Özeti:\n",
            "Elektrikli tel örgüler ve aşılmaz duvarlar. Mayın döşenmiş arazi ve sınırı korumaya çalışan askerler. Yanlarına alabildikleri\n",
            "------------------------------\n",
            "Yüzde 40 Özeti:\n",
            "Elektrikli tel örgüler ve aşılmaz duvarlar. Mayın döşenmiş arazi ve sınırı korumaya çalışan askerler. Yanlarına alabildikleri birkaç parça eşyadan başka en ağır yükleri\n",
            "------------------------------\n",
            "Yüzde 50 Özeti:\n",
            "Elektrikli tel örgüler ve aşılmaz duvarlar. Mayın döşenmiş arazi ve sınırı korumaya çalışan askerler. Yanlarına alabildikleri birkaç parça eşyadan başka en ağ Turkey.\n",
            "------------------------------\n",
            "Yüzde 60 Özeti:\n",
            "Elektrikli tel örgüler ve aşılmaz duvarlar. Mayın döşenmiş arazi ve sınırı korumaya çalışan askerler. Yanlarına alabildikleri birkaç parça eşyadan başka en ağır yükleri karşı tarafta.\n",
            "------------------------------\n",
            "Yüzde 70 Özeti:\n",
            "Elektrikli tel örgüler ve aşılmaz duvarlar. Mayın döşenmiş arazi ve sınırı korumaya çalışan askerler. Yanlarına alabildikleri birkaç parça eşyadan başka en ağır yükleri karşı tarafta yeni bir hayat umudundan ibaret insanlar. Tüm paralararın  umut simsarlarına vermiş,bugüne kadar sahip oldukları herşeyi.\n",
            "------------------------------\n",
            "Yüzde 80 Özeti:\n",
            "Elektrikli tel örgüler ve aşılmaz duvarlar. Mayın döşenmiş arazi ve sınırı korumaya çalışan askerler. Yanlarına alabildikleri birkaç parça eşyadan başka en ağır yükleri karşı tarafta yeni bir hayat umudundan ibaret insanlar.\n",
            "------------------------------\n",
            "Yüzde 90 Özeti:\n",
            "Elektrikli tel örgüler ve aşılmaz duvarlar. Mayın döşenmiş arazi ve sınırı korumaya çalışan askerler. Yanlarına alabildikleri birkaç parça eşyadan başka en ağır yükleri karşı tarafta yeni bir hayat umudundan ibaret insanlar. Tüm paralararınç, umut simsarlarına vermiş,bugüne kadar sahip oldukları herşeyi.\n",
            "------------------------------\n",
            "Yüzde 100 Özeti:\n",
            "Elektrikli tel örgüler ve aşılmaz duvarlar. Mayın döşenmiş arazi ve sınırı korumaya çalışan askerler. Yanlarına alabildikleri birkaç parça eşyadan başka en ağır yükleri karşı tarafta yeni bir hayat umudundan ibaret insanlar.\n",
            "------------------------------\n"
          ]
        }
      ]
    },
    {
      "cell_type": "code",
      "source": [
        "from transformers import BartTokenizer, BartForConditionalGeneration\n",
        "\n",
        "# Türkçe BART modelini yükleyin\n",
        "model_name = \"facebook/bart-large-cnn\"\n",
        "model = BartForConditionalGeneration.from_pretrained(model_name)\n",
        "tokenizer = BartTokenizer.from_pretrained(model_name)\n",
        "\n",
        "def generate_summary_with_percentage(text, percentage):\n",
        "    # Metni yüzdelik orana göre özetle\n",
        "    max_length = int(len(text.split()) * (percentage / 100))\n",
        "    min_length = int(max_length * 0.8)  # Minimum uzunluğu ayarlayabilirsiniz\n",
        "    input_ids = tokenizer.encode(text, return_tensors=\"pt\", max_length=max_length, truncation=True)\n",
        "    summary_ids = model.generate(input_ids, max_length=max_length, min_length=min_length, num_beams=4, length_penalty=2.0, early_stopping=True)\n",
        "    summary = tokenizer.decode(summary_ids[0], skip_special_tokens=True)\n",
        "    return summary\n",
        "\n",
        "def generate_summaries(file_path, percentages):\n",
        "    # Metin dosyasını okuyun\n",
        "    with open(file_path, 'r', encoding='utf-8') as file:\n",
        "        body = file.read()\n",
        "\n",
        "    summaries = {}\n",
        "    for percentage in percentages:\n",
        "        summary = generate_summary_with_percentage(body, percentage)\n",
        "        summaries[f\"Yüzde {percentage} Özeti\"] = summary\n",
        "\n",
        "    return summaries\n",
        "\n",
        "if __name__ == \"__main__\":\n",
        "    file_path = 'metin.txt'  # Metin dosyasının yolunu belirtin\n",
        "    percentages = [10, 20, 30, 40, 50, 60, 70, 80, 90, 100]\n",
        "\n",
        "    all_summaries = generate_summaries(file_path, percentages)\n",
        "    for title, summary in all_summaries.items():\n",
        "        print(title)\n",
        "        print(summary)\n",
        "        print(\"-\" * 30)\n"
      ],
      "metadata": {
        "colab": {
          "base_uri": "https://localhost:8080/"
        },
        "id": "_zw0mitIs5x0",
        "outputId": "e57117cf-5a5c-4db9-b11f-8b906da40a14"
      },
      "execution_count": null,
      "outputs": [
        {
          "output_type": "stream",
          "name": "stdout",
          "text": [
            "Yüzde 10 Özeti\n",
            "Elektrikli tel örgüler ve aşılmaz duv\n",
            "------------------------------\n",
            "Yüzde 20 Özeti\n",
            "Elektrikli tel örgüler ve aşılmaz duvarlar. Mayın döşenmiş arazi ve sınırı\n",
            "------------------------------\n",
            "Yüzde 30 Özeti\n",
            "Elektrikli tel örgüler ve aşılmaz duvarlar. Mayın döşenmiş arazi ve sınırı korumaya çalışan askerler. Yanlarına alabildikleri\n",
            "------------------------------\n",
            "Yüzde 40 Özeti\n",
            "Elektrikli tel örgüler ve aşılmaz duvarlar. Mayın döşenmiş arazi ve sınırı korumaya çalışan askerler. Yanlarına alabildikleri birkaç parça eşyadan başka en ağır yükleri\n",
            "------------------------------\n",
            "Yüzde 50 Özeti\n",
            "Elektrikli tel örgüler ve aşılmaz duvarlar. Mayın döşenmiş arazi ve sınırı korumaya çalışan askerler. Yanlarına alabildikleri birkaç parça eşyadan başka en ağır yükleri karşı tarafta.\n",
            "------------------------------\n",
            "Yüzde 60 Özeti\n",
            "Elektrikli tel örgüler ve aşılmaz duvarlar. Mayın döşenmiş arazi ve sınırı korumaya çalışan askerler. Yanlarına alabildikleri birkaç parça eşyadan başka en ağır yükleri karşı tarafta yeni bir hayat umudundan ibaret insanlar.\n",
            "------------------------------\n",
            "Yüzde 70 Özeti\n",
            "Elektrikli tel örgüler ve aşılmaz duvarlar. Mayın döşenmiş arazi ve sınırı korumaya çalışan askerler. Yanlarına alabildikleri birkaç parça eşyadan başka en ağır yükleri karşı tarafta yeni bir hayat umudundan ibaret insanlar. Tüm paralararın  umut simsarlarına vermiş,bugüne kadar sahip oldukları herşeyi, hayatlar\n",
            "------------------------------\n",
            "Yüzde 80 Özeti\n",
            "Elektrikli tel örgüler ve aşılmaz duvarlar. Mayın döşenmiş arazi ve sınırı korumaya çalışan askerler. Yanlarına alabildikleri birkaç parça eşyadan başka en ağır yükleri karşı tarafta yeni bir hayat umudundan ibaret insanlar. Tüm paralararın  umut simsarlarına vermiş,bugüne kadar sahip oldukları herşeyi.\n",
            "------------------------------\n",
            "Yüzde 90 Özeti\n",
            "Elektrikli tel örgüler ve aşılmaz duvarlar. Mayın döşenmiş arazi ve sınırı korumaya çalışan askerler. Yanlarına alabildikleri birkaç parça eşyadan başka en ağır yükleri karşı tarafta yeni bir hayat umudundan ibaret insanlar. Tüm paralararınç, umut simsarlarına vermiş,bugüne kadar sahip oldukları herşeyi. geride bırakmış, aşağılanmayı, dilenmeyi, gerekirse bedenlerini satmayı tercih et.\n",
            "------------------------------\n",
            "Yüzde 100 Özeti\n",
            "Elektrikli tel örgüler ve aşılmaz duvarlar. Mayın döşenmiş arazi ve sınırı korumaya çalışan askerler. Yanlarına alabildikleri birkaç parça eşyadan başka en ağır yükleri karşı tarafta yeni bir hayat umudundan ibaret insanlar. Tüm paraların    vermiş,bugüne kadar sahip oldukları herşeyi, hayatların. ve hatıralar   geride bırakmış, aşağılanmayı, dilenmeyi, gerekirse bedenlerini satmayı tercih etmek zorunda kalan kadınlar ve erkekler.\n",
            "------------------------------\n"
          ]
        }
      ]
    }
  ]
}